{
 "cells": [
  {
   "cell_type": "markdown",
   "source": [
    "# PyTorch Fashion\n",
    "1. Prepare Dataset\n",
    "    - use tool (talk later)\n",
    "2. Design model using class\n",
    "    - inherit from nn.Model\n",
    "3. Construct loss and optimizer\n",
    "    - using PyTorch APi\n",
    "4. Training cycle + test\n",
    "    - forward   -->损失\n",
    "    - backward  -->梯度\n",
    "    - update    -->梯度下降法更新权重\n",
    "\n"
   ],
   "metadata": {
    "collapsed": false
   }
  },
  {
   "cell_type": "markdown",
   "source": [
    "## Tensor：\n",
    "### 内容\n",
    "Pytorch的基本单元，可以存放数据，维度不限；\n",
    "每一单元含有两部分内容：权值（Data）和梯度（Gard）\n",
    "<img height=\"120\" src=\"Picture/Tensor.png\" width=\"120\"/>\n",
    "### 属性\n",
    "|             属性              | 属性值                                                                                                            |\n",
    "|:---------------------------:|:---------------------------------------------------------------------------------------------------------------|\n",
    "|          **data**           | 该 tensor 的值                                                                                                    |\n",
    "|        required_grad        | 该 tensor 是否连接在计算图（computational graph）上，即是否计算梯度                                                                |\n",
    "|          **grad**           | 如果 required_grad 是 True，则这个属性存储了反向传播时该 tensor 积累的梯度（tensor）                                                    |\n",
    "|           grad_fn           | 该 tensor 计算梯度的函数                                                                                               |\n",
    "|           is_leaf           | 在计算图中两种情况下 is_leaf 是 True：模型需要更新的参数 W 和模型的输入 x。is_leaf 和 required_grad 都是 True，该 tensor 才会将计算图中的梯度积累到 grad 属性中 |\n",
    "\n",
    "### 运算过程\n",
    "每一次Tensor运算都会生成一个动态的运算图\n",
    "前向计算时构建计算图，梯度是反向传播时计算，为了节省显存反向传播完计算图被释放。\n",
    "<img height=\"250\" src=\"Picture/Tensor_ operation.png\" width=\"400\"/>\n",
    "\n",
    "______"
   ],
   "metadata": {
    "collapsed": false
   }
  },
  {
   "cell_type": "markdown",
   "source": [
    "## torch.nn\n",
    "### .**Linea**r(in_features,out_features,bias)\n",
    "- in_features: size of each input sample\n",
    "- out_features: size of each output sample\n",
    "    - size：输入（出）样本的维度（特征数量，列数）\n",
    "- bias: 是否需要偏置量\n",
    "    - If set to\"False\", the layer will not learn an additive bias.\n",
    "    - Default: \"True\"\n",
    "    <img height=\"220\" src=\"Picture/LinearFuncation.png\" width=\"400\"/>\n",
    "### .MSELoss()\n",
    "* size_average (bool, optional): 是否求均值，默认True\n",
    "* reduce (bool, optional):是否求和降维，默认True\n",
    "## torch.optim\n",
    "### .SGD\n",
    "* params: (_params_t) 权重,常见输入：model.parameters()保存的是Weights和Bais参数的值\n",
    "* lr: (float) 学习率\n",
    "* momentum: (float) 冲量\n",
    "* dampening: (float)\n",
    "* weight_decay:(float) W^TW\n",
    "* nesterov:(bool)"
   ],
   "metadata": {
    "collapsed": false
   }
  },
  {
   "cell_type": "markdown",
   "source": [
    "## Class\n",
    " __init\\_\\_:初始化class的时候用，给初始值附值\n",
    " __call\\_\\_:对实例对象可以像调用普通函数那样"
   ],
   "metadata": {
    "collapsed": false
   }
  },
  {
   "cell_type": "code",
   "execution_count": null,
   "outputs": [],
   "source": [
    "class Foobar:\n",
    "    def __int__(self):\n",
    "        # 初始化class的时候用，给初始值附值\n",
    "        pass\n",
    "\n",
    "    def __call__(self, *args, **kwargs):\n",
    "        \"\"\"\n",
    "        对实例对象可以像调用普通函数那样\n",
    "        :param args:传入普通值，并以元组形式存放\n",
    "        :param kwargs:传入关键值，并以字典形式存放\n",
    "        :return:\n",
    "        \"\"\"\n",
    "\n",
    "        pass\n"
   ],
   "metadata": {
    "collapsed": false
   }
  },
  {
   "cell_type": "markdown",
   "source": [
    "## 逻辑斯蒂回归\n",
    "### ——分类问题\n",
    "**常用Sigmoid函数**\n",
    "<img height=\"220\" src=\"Picture/Sigmoid.png\" width=\"400\"/>\n",
    "**常规模型与逻辑斯蒂模型**\n",
    "线性回归后增加一步分类（Sigmoid函数）\n",
    "<img height=\"200\" src=\"Picture/Model4Affine&Logistic.png\" width=\"400\"/>\n",
    "**常规模型与逻辑斯蒂损失函数**\n",
    "由传统的MSE转为BCE\n",
    "<img height=\"200\" src=\"Picture/LossFunction4Affine&amp;Logistic.png\" width=\"400\"/>\n",
    "**逻辑斯蒂模型**\n",
    "<img height=\"220\" src=\"Picture/LogisticsModel.png\" width=\"400\"/>\n",
    "<img height=\"220\" src=\"Picture/MiniBatch.png\" width=\"400\"/>"
   ],
   "metadata": {
    "collapsed": false
   }
  },
  {
   "cell_type": "markdown",
   "source": [
    "## Mini batch\n",
    "- **【epoch】**:\n",
    "    - One forward pass and one backward pass of all then training examples.\n",
    "- **【Batch-size】**:\n",
    "    - The number of training examples in one of forward backward pass\n",
    "- **【interation】**:\n",
    "    - Number of passes,each pass using [batch size] number of examples\n",
    "\n",
    "\n"
   ],
   "metadata": {
    "collapsed": false
   }
  },
  {
   "cell_type": "markdown",
   "source": [
    "## 数据集加载\n",
    "### ——Dataset and Dataloader\n",
    "1、DataSet 是抽象类，不能实例化对象，主要是用于构造我们的数据集\n",
    "\n",
    "2、DataLoader 需要获取DataSet提供的索引[i]和len;用来帮助我们加载数据，比如说做shuffle(提高数据集的随机性)，batch_size,能拿出Mini-Batch进行训练。它帮我们自动完成这些工作。DataLoader可实例化对象。DataLoader is a class to help us loading data in Pytorch.\n",
    "\n",
    "dataloader:\n",
    "<img height=\"250\" src=\"Picture/Dataloader.png\" width=\"400\"/>\n",
    "<img height=\"250\" src=\"Picture/DiabetesDataset.png\" width=\"400\"/>"
   ],
   "metadata": {
    "collapsed": false
   }
  },
  {
   "cell_type": "code",
   "execution_count": null,
   "outputs": [],
   "source": [
    "import torch\n",
    "import numpy as np\n",
    "from torch.utils.data import Dataset\n",
    "from torch.utils.data import DataLoader\n",
    "\n",
    "\n",
    "class DiabetesDataset(Dataset):\n",
    "    #   Dataset是一个抽象函数，不能直接实例化，所以我们要创建一个自己类，继承Dataset\n",
    "    def __int__(self, path):\n",
    "        # 初始化函数，之后我们可以提供数据集路径进行数据的加载\n",
    "        xy=np.loadtxt(path)\n",
    "        pass\n",
    "\n",
    "    def __getitem__(self, item):\n",
    "        # 帮助我们通过索引找到某个样本\n",
    "        pass\n",
    "\n",
    "    def __len__(self):\n",
    "        # 帮助我们返回数据集大小\n",
    "        pass\n",
    "\n",
    "\n",
    "filepath = None\n",
    "dataset = DiabetesDataset(filepath)\n",
    "train_loader = DataLoader(\n",
    "    dataset=dataset,  # 传递数据集\n",
    "    batch_size=32,  # 小批量的容量\n",
    "    shuffle=True,  # 是否打乱训练\n",
    "    num_workers=2  # 是否并行计算，并行块2\n",
    ")"
   ],
   "metadata": {
    "collapsed": false,
    "pycharm": {
     "is_executing": true
    }
   }
  },
  {
   "cell_type": "markdown",
   "source": [
    "### enumerate()\n",
    "enumerate在字典上是枚举、列举的意思\n",
    "**enumerate参数(可遍历/可迭代的对象(如列表、字符串),索引开始数）**\n",
    "enumerate多用于在for循环中得到计数，利用它可以同时获得索引和值，即需要index和value值的时候可以使用enumerate\n",
    "enumerate()返回的是一个enumerate对象\n"
   ],
   "metadata": {
    "collapsed": false
   }
  },
  {
   "cell_type": "markdown",
   "source": [
    "# 多分类问题\n",
    "## 函数\n",
    "**softmax函数**：$$\n",
    "\\text{Softmax}(x_{i}) = \\frac{\\exp(x_i)}{\\sum_j \\exp(x_j)}\n",
    "$$\n",
    "**NLLL损失函数**\n",
    "$$\n",
    "        \\ell(x, y) = L = \\{l_1,\\dots,l_N\\}^\\top, \\quad\n",
    "        \\\\l_n = - w_{y_n} x_{n,y_n}, \\quad\n",
    "        w_{c} = \\text{weight}[c] \\cdot \\mathbb{1}\\{c \\not= \\text{ignore\\_index}\\}\n",
    "$$\n",
    "**交叉熵损失函数**（Softmax+NLLLoss）\n",
    "<img height=\"200\" src=\"Picture/CrossEntropyLoss.png\" width=\"400\"/>\n",
    "批注：CrossEntropyLoss包括激活项，使用时不用softmax激活\n",
    "\n",
    "## Design Model for mnist\n",
    "<img height=\"200\" src=\"Picture/DesignModel4Mnist.png\" width=\"400\"/>\n"
   ],
   "metadata": {
    "collapsed": false
   }
  },
  {
   "cell_type": "markdown",
   "source": [
    "\n",
    "\n",
    "\n"
   ],
   "metadata": {
    "collapsed": false
   }
  },
  {
   "cell_type": "markdown",
   "source": [],
   "metadata": {
    "collapsed": false
   }
  },
  {
   "cell_type": "code",
   "execution_count": null,
   "outputs": [],
   "source": [],
   "metadata": {
    "collapsed": false
   }
  }
 ],
 "metadata": {
  "kernelspec": {
   "display_name": "Python 3",
   "language": "python",
   "name": "python3"
  },
  "language_info": {
   "codemirror_mode": {
    "name": "ipython",
    "version": 2
   },
   "file_extension": ".py",
   "mimetype": "text/x-python",
   "name": "python",
   "nbconvert_exporter": "python",
   "pygments_lexer": "ipython2",
   "version": "2.7.6"
  }
 },
 "nbformat": 4,
 "nbformat_minor": 0
}

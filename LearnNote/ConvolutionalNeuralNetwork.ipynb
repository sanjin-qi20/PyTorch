{
 "cells": [
  {
   "cell_type": "markdown",
   "source": [
    "# ConvolutionalNeuralNetwork"
   ],
   "metadata": {
    "collapsed": false
   }
  },
  {
   "cell_type": "markdown",
   "source": [
    "## 全连接神经网络FNN与卷积神经网络CNN\n",
    "全连接神经网络，一层一层的全部连接，也就是前一层的每一个节点都会和后面一层的所有节点进行连接。\n",
    "全连接神经网络在数值计算的时候，会把信息拉成一维的，这样会丧失掉图片特征中的一些空间的信息。而卷积神经网络可以很好的保留图像的空间特征\n",
    "全连接神经网络工作方式：\n",
    "<img height=\"380\" src=\"Picture/Model4FNN.png\" width=\"700\"/>\n",
    "输入一张图像，先进行卷积操作，然后通过Subsampling下采样减少元素数量，降低运算的需求。 最终为了实现分类，输出还是一个10维的向量。中间的过程可以采样不同的方式\n",
    "总的来看，首先经过卷积层，进行特征提取，经过特征提取之后，图片信息变成了一个向量；而后将向量接入一个全连接网络进行分类处理。\n",
    "<img height=\"380\" src=\"Picture/Model4CNN.png\" width=\"700\"/>\n",
    "**卷积和下采样称为特征提取器(Feature Extraction)，全连接层作为分类器(Classification)。**\n",
    "**卷积神经网络基本分为：Feature Extraction+Classification**\n"
   ],
   "metadata": {
    "collapsed": false
   }
  },
  {
   "cell_type": "markdown",
   "source": [
    "## 卷积运算\n",
    "### 单通道卷积\n",
    "**步骤**：\n",
    "**1**在输入图像中，画出一个卷积核大小的（3x3）的窗口，而后将该窗口与卷积核做数乘+求（对应元素相乘）；\n",
    "**2**将该窗口从左往右、从上到下做遍历，每一次都进行数乘求和运算；\n",
    "**3**最终由这些数乘求和数值组成的矩阵，就是卷积后的结果\n",
    "\n",
    "**例**：选择 1 x 5 x 5 的单通道图像，3 x 3 的卷积核，进行卷积运算\n",
    "\n",
    "<img height=\"700\" src=\"Picture/ConvolutionOne.png\" width=\"700\"/>\n",
    "\n",
    "### 三通道卷积\n",
    "对于输入图像，每一个通道都会配一个卷积核，也就是输入图像的通道数等于卷积核的通道数。\n",
    "**步骤**：\n",
    "1.每个通道根据上面讲的单通道的计算方式计算，得到一个矩阵，一共可以得到三个矩阵，\n",
    "2.将这三个矩阵求和，最终得到的结果就是三通道卷积的结果。\n",
    "**例**：\n",
    "<img height=\"780\" src=\"Picture/ConvolutionThree.png\" width=\"700\"/>\n",
    "\n",
    "### 单通道输出\n",
    "卷积核深度channel需等于输入深度（维度），一个卷积核得到一个输出通道\n",
    "<img height=\"300\" src=\"Picture/ConvolutionOutputOne.png\" width=\"700\"/>\n",
    "\n",
    "### 多通道输出\n",
    "**输入图像的通道数和卷积核的通道数一样；n：等于输入的维度**\n",
    "**卷积核的个数和输出图像的通道数一样；m：等于卷积层内卷积核的个数**\n",
    "<img height=\"310\" src=\"Picture/ConvolutionOutputMulti.png\" width=\"700\"/>\n",
    "构建一个卷积层，权重表示：\n",
    "<img height=\"300\" src=\"Picture/ConvoluteLayer.png\" width=\"700\"/>\n",
    "**卷积核的**输入通道数（深度）与图像输入通道（深度）一致时卷积才起作用**"
   ],
   "metadata": {
    "collapsed": false
   }
  },
  {
   "cell_type": "code",
   "execution_count": 19,
   "outputs": [
    {
     "name": "stdout",
     "output_type": "stream",
     "text": [
      "torch.Size([1, 5, 100, 100])\n",
      "torch.Size([1, 10, 98, 98])\n",
      "torch.Size([10, 5, 3, 3])\n"
     ]
    }
   ],
   "source": [
    "import torch\n",
    "\n",
    "in_channels, out_channels = 5, 10\n",
    "width, height = 100, 100\n",
    "kernel_size = 3\n",
    "batch_size = 1\n",
    "\n",
    "inputs = torch.rand(batch_size,\n",
    "                    in_channels,  # 输入通道数\n",
    "                    width,\n",
    "                    height)\n",
    "conv_layer = torch.nn.Conv2d(in_channels,  # 输入通道\n",
    "                             out_channels,  #输出通道\n",
    "                             kernel_size=kernel_size  # 卷积核\n",
    "                             )\n",
    "outputs = conv_layer(inputs)\n",
    "print(inputs.shape)\n",
    "print(outputs.shape)\n",
    "print(conv_layer.weight.shape)"
   ],
   "metadata": {
    "collapsed": false
   }
  },
  {
   "cell_type": "markdown",
   "source": [
    "## 卷积运算其他参数权重\n",
    "### 填充padding\n",
    "**无padding**：我们输入一个5x5大小的输入图像，通过3x3的卷积核进行卷积，此时输出图像为3x3。\n",
    "**padding作用**我们想要输出图像的大小和输入图像的大小是一样大，此时我们就需要进行对输入图像进行填充。\n",
    "**例子**\n",
    "1. 输入一个3x3大小的输入图像，使输出图像的大小和输入图像的大小一样，padding = 3/2 = 1，此时就需要在输入图像填充一圈使其变成7x7。\n",
    "2. 输入5x5大小的卷积核进行卷积，使输出图像大小等于输入图像大小，此时我们需要填充padding = 5/2 = 2，填充2圈，使得原图像变成9x9。\n",
    "<img height=\"200\" src=\"Picture/Padding4Convolution.png\" width=\"500\"/>"
   ],
   "metadata": {
    "collapsed": false
   }
  },
  {
   "cell_type": "code",
   "execution_count": 20,
   "outputs": [
    {
     "name": "stdout",
     "output_type": "stream",
     "text": [
      "tensor([[[[ 32.,  68.,  89., 101.,  78.],\n",
      "          [ 87., 165., 210., 219., 162.],\n",
      "          [141., 255., 291., 255., 156.],\n",
      "          [114., 210., 219., 219., 141.],\n",
      "          [143., 248., 224., 191.,  96.]]]], grad_fn=<ConvolutionBackward0>)\n"
     ]
    },
    {
     "data": {
      "text/plain": "<matplotlib.image.AxesImage at 0x214dbb0bd90>"
     },
     "execution_count": 20,
     "metadata": {},
     "output_type": "execute_result"
    },
    {
     "data": {
      "text/plain": "<Figure size 640x480 with 1 Axes>",
      "image/png": "[encoded data removed]"
     },
     "metadata": {},
     "output_type": "display_data"
    }
   ],
   "source": [
    "import torch\n",
    "import matplotlib.pyplot as plt\n",
    "\n",
    "data_input = [1, 2, 3, 4, 5,\n",
    "              6, 7, 8, 9, 1,\n",
    "              2, 3, 4, 5, 6,\n",
    "              7, 8, 9, 1, 2,\n",
    "              3, 4, 5, 6, 7]\n",
    "# view内参数说明：\n",
    "# B：batch_size\n",
    "# C: 通道数\n",
    "# W：图像或卷积核的宽度\n",
    "# H：图像或卷积核的高度\n",
    "# O: 输出通道数\n",
    "# I：输入通道数\n",
    "data_input = torch.Tensor(data_input).view(1, 1, 5, 5)  # B C W H\n",
    "conv_layer = torch.nn.Conv2d(1, 1, kernel_size=3, padding=1, bias=False)\n",
    "kernel = torch.Tensor([9, 8, 7, 6, 5, 4, 3, 2, 1]).view(1, 1, 3, 3)  # O I W H\n",
    "conv_layer.weight.data = kernel.data  #将设定卷积核的送入到卷积层\n",
    "outputs = conv_layer(data_input)\n",
    "print(outputs)\n",
    "plt.imshow(outputs.data[0][0])\n"
   ],
   "metadata": {
    "collapsed": false
   }
  },
  {
   "cell_type": "markdown",
   "source": [
    "### 步长Stride\n",
    "卷积核窗口在遍历图像时，每走一步的步长。\n",
    "从左到右、从上到下每次都是移动<stride>步。这个可以有效地降低特征图的宽度和高度\n",
    "<img height=\"600\" src=\"Picture/Stride4Convolution.png\" width=\"500\"/>"
   ],
   "metadata": {
    "collapsed": false
   }
  },
  {
   "cell_type": "code",
   "execution_count": 21,
   "outputs": [
    {
     "name": "stdout",
     "output_type": "stream",
     "text": [
      "tensor([[[[165., 210., 219.],\n",
      "          [255., 291., 255.],\n",
      "          [210., 219., 219.]]]], grad_fn=<ConvolutionBackward0>)\n"
     ]
    },
    {
     "data": {
      "text/plain": "<matplotlib.image.AxesImage at 0x214d97bb280>"
     },
     "execution_count": 21,
     "metadata": {},
     "output_type": "execute_result"
    },
    {
     "data": {
      "text/plain": "<Figure size 640x480 with 1 Axes>",
      "image/png": "[encoded data removed]"
     },
     "metadata": {},
     "output_type": "display_data"
    }
   ],
   "source": [
    "import torch\n",
    "import matplotlib.pyplot as plt\n",
    "\n",
    "data_input = [1, 2, 3, 4, 5,\n",
    "              6, 7, 8, 9, 1,\n",
    "              2, 3, 4, 5, 6,\n",
    "              7, 8, 9, 1, 2,\n",
    "              3, 4, 5, 6, 7]\n",
    "# view内参数说明：\n",
    "# B：batch_size\n",
    "# C: 通道数\n",
    "# W：图像或卷积核的宽度\n",
    "# H：图像或卷积核的高度\n",
    "# O: 输出通道数\n",
    "# I：输入通道数\n",
    "data_input = torch.Tensor(data_input).view(1, 1, 5, 5)  # B C W H\n",
    "conv_layer = torch.nn.Conv2d(1, 1, kernel_size=3, stride=1, bias=False)\n",
    "kernel = torch.Tensor([9, 8, 7, 6, 5, 4, 3, 2, 1]).view(1, 1, 3, 3)  # O I W H\n",
    "conv_layer.weight.data = kernel.data  #将设定卷积核的送入到卷积层\n",
    "outputs = conv_layer(data_input)\n",
    "print(outputs)\n",
    "plt.imshow(outputs.data[0][0])\n"
   ],
   "metadata": {
    "collapsed": false
   }
  },
  {
   "cell_type": "markdown",
   "source": [
    "### 池化Poling——下采样\n",
    "**最大池化**它是没有权重的，2x2的池化默认stride=2。做最大池化，只是在一个通道内进行，不同的通道不会最大池化。\n",
    "<img height=\"200\" src=\"Picture/MaxPooling4Convolution.png\" width=\"500\"/>"
   ],
   "metadata": {
    "collapsed": false
   }
  },
  {
   "cell_type": "code",
   "execution_count": 22,
   "outputs": [
    {
     "name": "stdout",
     "output_type": "stream",
     "text": [
      "tensor([[[[7., 9.],\n",
      "          [8., 9.]]]])\n"
     ]
    },
    {
     "data": {
      "text/plain": "<matplotlib.image.AxesImage at 0x214d651f5b0>"
     },
     "execution_count": 22,
     "metadata": {},
     "output_type": "execute_result"
    },
    {
     "data": {
      "text/plain": "<Figure size 640x480 with 1 Axes>",
      "image/png": "[encoded data removed]"
     },
     "metadata": {},
     "output_type": "display_data"
    }
   ],
   "source": [
    "import torch\n",
    "import matplotlib.pyplot as plt\n",
    "\n",
    "data_input = [1, 2, 3, 4, 5,\n",
    "              6, 7, 8, 9, 1,\n",
    "              2, 3, 4, 5, 6,\n",
    "              7, 8, 9, 1, 2,\n",
    "              3, 4, 5, 6, 7]\n",
    "# view内参数说明：\n",
    "# B：batch_size\n",
    "# C: 通道数\n",
    "# W：图像或卷积核的宽度\n",
    "# H：图像或卷积核的高度\n",
    "data_input = torch.Tensor(data_input).view(1, 1, 5, 5)  # B C W H\n",
    "max_pooling_layer = torch.nn.MaxPool2d(kernel_size=2)\n",
    "outputs = max_pooling_layer(data_input)\n",
    "print(outputs)\n",
    "plt.imshow(outputs.data[0][0])"
   ],
   "metadata": {
    "collapsed": false
   }
  },
  {
   "cell_type": "markdown",
   "source": [
    "## 简单的卷积神经网络\n",
    "1. 选择 5 x 5 的卷积核，输入通道为 1，输出通道为 10：此时图像矩阵经过 5 x 5 的卷积核后会小两圈，也就是4个数位，变成 24 x 24，输出通道为10；\n",
    "2. 选择 2 x 2 的最大池化层：此时图像大小缩短一半，变成 12 x 12，通道数不变；\n",
    "3. 再次经过 5 x 5 的卷积核，输入通道为 10，输出通道为 20：此时图像再小两圈，变成 8 *8，输出通道为20；\n",
    "4. 再次经过 2 x 2 的最大池化层：此时图像大小缩短一半，变成 4 x 4，通道数不变；\n",
    "5. 最后将图像整型变换成向量，输入到全连接层中：输入一共有 4 x 4 x 20 = 320 个元素，输出为 10.\n",
    "\n",
    "<img height=\"300\" src=\"Picture/SimpleConvolutionalNeuralNetwork.png\" width=\"700\"/>\n",
    "\n",
    "5x5的卷积核就是少两圈，也就是图像大小-4\n",
    "\n",
    "<img height=\"400\" src=\"Picture/SimpleConvolutionalNeuralNetworkModel.png\" width=\"700\"/>\n"
   ],
   "metadata": {
    "collapsed": false
   }
  },
  {
   "cell_type": "markdown",
   "source": [
    "## Pytorch 使用GPU加速\n",
    "### 模型建立后，网络模型迁移到GPU上面进行训练\n",
    "device = torch.device(\"cuda:0\" if torch.cuda.is_available() else \"cpu\")\n",
    "model.to(device)\n",
    "### 训练时：输入的数据放到同一块显卡上，Training\n",
    "input, target = input.to(device), target.to(device)\n",
    "### 测试时，输入的数据放到同一块显卡上，Testing\n",
    " input, target = input.to(device),target.to(device)\n",
    "### 训练测试时也可以将loss放在显卡是"
   ],
   "metadata": {
    "collapsed": false
   }
  },
  {
   "cell_type": "markdown",
   "source": [
    "## 减少代码冗余\n",
    "**面向过程**：使用函数\n",
    "**面向对象**：使用类"
   ],
   "metadata": {
    "collapsed": false
   }
  },
  {
   "cell_type": "markdown",
   "source": [
    "# GoogLeNet\n",
    "## Inception\n",
    "inception模块的构成方式其实有很多种，这只是其中的一种:\n",
    "### 首先需要知道inception为什么这样构建？\n",
    "因为构建的时候有一些超参数是比较难选的，比如卷积核的大小，是使用3x3，还是5x5还是使用其他的方式，GooleNet的出发点就是不知道哪个卷积核好用，那么就在一个块里面把卷积核都使用一下，然后把他们结果挪到一起，之后如果3x3的好用，自然3x3的权重就会变得比较大，其他路线的权重相对就会变得更小，所以这是提供了几种后续的神经网络的配置，然后通过训练自动的找到最优的卷积的组合，这是GoogleNet设计的灵感。\n",
    "<img height=\"600\" src=\"Picture/IncetionModule4GoogLeNet.png\" width=\"700\"/>\n",
    "\n",
    "**Concatenate**：把张量拼接到一块。4条路径算出来4个张量，所以肯定要做一个拼接。"
   ],
   "metadata": {
    "collapsed": false
   }
  },
  {
   "cell_type": "code",
   "execution_count": null,
   "outputs": [],
   "source": [],
   "metadata": {
    "collapsed": false
   }
  }
 ],
 "metadata": {
  "kernelspec": {
   "display_name": "Python 3",
   "language": "python",
   "name": "python3"
  },
  "language_info": {
   "codemirror_mode": {
    "name": "ipython",
    "version": 2
   },
   "file_extension": ".py",
   "mimetype": "text/x-python",
   "name": "python",
   "nbconvert_exporter": "python",
   "pygments_lexer": "ipython2",
   "version": "2.7.6"
  }
 },
 "nbformat": 4,
 "nbformat_minor": 0
}

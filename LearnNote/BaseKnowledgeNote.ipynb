{
 "cells": [
  {
   "cell_type": "markdown",
   "source": [
    "# 基本概念与问题随记"
   ],
   "metadata": {
    "collapsed": false
   }
  },
  {
   "cell_type": "markdown",
   "source": [
    "### 运行终端的时虚拟环境与系统环境冲突：\n",
    "解决方案：指定虚拟环境的Scripts目录\n",
    "cd .\\venv\\Scripts\\\n",
    "### 虚拟环境未激活：\n",
    "在cmd中进入到activate文件夹中，输入activate，\n",
    "cd .\\venv\\Scripts>'activate'"
   ],
   "metadata": {
    "collapsed": false
   }
  },
  {
   "cell_type": "markdown",
   "source": [
    "## 梯度下降法\n",
    "<img height=\"220\" src=\"Picture/LearnRete.png\" width=\"450\"/>\n",
    "\n",
    "## 随机梯度下降\n",
    "随机梯度下降：（n个数据中随机选一个数据）拿单个样本的损失函数来优化\n",
    "<img height=\"220\" src=\"Picture\\StochasticGradien.png\" width=\"450\"/>\n",
    "\n",
    "|          | 梯度下降 | 随机梯度下降 |\n",
    "|:--------:|:----:|:------:|\n",
    "| 更新时样本依赖  |  无   |   有    |\n",
    "| 是否支持并行运算 |  是   |   否    |\n",
    "|  时间复杂度   |  低   |   高    |\n",
    "|    性能    |  低   |   高    |\n",
    "梯度下降：样本之前无依赖，可以并行运算，易陷入局部最优；\n",
    "随机梯度下降：样本依赖，无法并行运算，易找到全局优解；"
   ],
   "metadata": {
    "collapsed": false
   }
  },
  {
   "cell_type": "markdown",
   "source": [
    "## 前向传播与反向传播图解\n",
    "图中为多层网络中的一个神经元\n",
    "<img height=\"220\" src=\"Picture/Forward_Backward.png\" width=\"400\"/>\n",
    "图为一个完整的线性模型正向传播与反向传播流程\n",
    "<img height=\"220\" src=\"Picture/Forward_Backard4LinearModel.png\" width=\"400\"/>"
   ],
   "metadata": {
    "collapsed": false
   }
  },
  {
   "cell_type": "code",
   "execution_count": null,
   "outputs": [],
   "source": [],
   "metadata": {
    "collapsed": false
   }
  }
 ],
 "metadata": {
  "kernelspec": {
   "display_name": "Python 3",
   "language": "python",
   "name": "python3"
  },
  "language_info": {
   "codemirror_mode": {
    "name": "ipython",
    "version": 2
   },
   "file_extension": ".py",
   "mimetype": "text/x-python",
   "name": "python",
   "nbconvert_exporter": "python",
   "pygments_lexer": "ipython2",
   "version": "2.7.6"
  }
 },
 "nbformat": 4,
 "nbformat_minor": 0
}
